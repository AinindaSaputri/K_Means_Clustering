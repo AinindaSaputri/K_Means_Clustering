{
 "cells": [
  {
   "cell_type": "markdown",
   "metadata": {
    "colab_type": "text",
    "id": "view-in-github"
   },
   "source": [
    "<a href=\"https://colab.research.google.com/github/Angga-Luri/some-try-code/blob/main/K_Means_Clustering.ipynb\" target=\"_parent\"><img src=\"https://colab.research.google.com/assets/colab-badge.svg\" alt=\"Open In Colab\"/></a>"
   ]
  },
  {
   "cell_type": "code",
   "execution_count": 12,
   "metadata": {
    "id": "S6ePUqDTGwHm"
   },
   "outputs": [],
   "source": [
    "import matplotlib as plt\n",
    "from sklearn.datasets import make_blobs\n",
    "from sklearn.cluster import KMeans\n",
    "from sklearn.metrics import silhouette_score\n",
    "from sklearn.preprocessing import StandardScaler"
   ]
  },
  {
   "cell_type": "code",
   "execution_count": 13,
   "metadata": {
    "id": "nkPblt_CGxB_"
   },
   "outputs": [],
   "source": [
    "features, true_label = make_blobs(\n",
    "    n_samples=341,\n",
    "    centers=5,\n",
    "    cluster_std=2.75,\n",
    "    random_state=42\n",
    ")"
   ]
  },
  {
   "cell_type": "code",
   "execution_count": 14,
   "metadata": {
    "colab": {
     "base_uri": "https://localhost:8080/"
    },
    "id": "9QCDzpecHyL3",
    "outputId": "85ca773b-a486-43fc-dbb8-17af3b33a6ca"
   },
   "outputs": [
    {
     "data": {
      "text/plain": [
       "array([[ -1.61796671,   7.95530986],\n",
       "       [-15.63535013,   5.13206096],\n",
       "       [ -1.80093405,   8.80955986],\n",
       "       [ -1.8836828 ,  12.6089287 ],\n",
       "       [ -4.37073312,  10.69639592],\n",
       "       [-10.91829231,   3.41232521],\n",
       "       [  5.62379408,   3.51532713],\n",
       "       [ -4.19868826,   9.74803225],\n",
       "       [ -7.08219849,   2.75434274],\n",
       "       [-10.63087705,   7.45386926]])"
      ]
     },
     "execution_count": 14,
     "metadata": {},
     "output_type": "execute_result"
    }
   ],
   "source": [
    "features[:10]"
   ]
  },
  {
   "cell_type": "code",
   "execution_count": 15,
   "metadata": {
    "colab": {
     "base_uri": "https://localhost:8080/"
    },
    "id": "agqrrSs7H4VM",
    "outputId": "f88ca953-1e22-4579-d123-c2baa7e35885"
   },
   "outputs": [
    {
     "data": {
      "text/plain": [
       "array([0, 3, 0, 0, 0, 3, 1, 3, 3, 3, 4, 1, 0, 2, 0, 0, 3, 0, 2, 2, 1, 0,\n",
       "       3, 4, 1, 2, 1, 3, 2, 0, 4, 3, 3, 2, 3, 1, 3, 3, 1, 2, 4, 4, 1, 0,\n",
       "       3, 4, 1, 2, 1, 4, 1, 3, 4, 2, 2, 0, 4, 3, 4, 0, 2, 2, 2, 0, 4, 2,\n",
       "       3, 4, 3, 2, 1, 1, 1, 0, 3, 4, 2, 2, 3, 4, 4, 4, 1, 4, 0, 1, 3, 1,\n",
       "       3, 3, 2, 3, 0, 3, 3, 1, 0, 3, 4, 3, 2, 2, 1, 4, 2, 4, 2, 4, 1, 0,\n",
       "       1, 2, 1, 2, 0, 1, 4, 4, 2, 0, 2, 1, 0, 0, 1, 2, 4, 0, 2, 1, 2, 4,\n",
       "       3, 4, 3, 1, 1, 0, 0, 4, 2, 1, 2, 2, 2, 1, 4, 4, 0, 3, 2, 0, 3, 4,\n",
       "       0, 3, 3, 3, 3, 1, 4, 1, 4, 2, 1, 4, 1, 4, 3, 1, 4, 1, 1, 3, 4, 2,\n",
       "       0, 0, 0, 4, 0, 3, 3, 4, 2, 2, 1, 4, 1, 4, 3, 0, 1, 1, 0, 3, 0, 3,\n",
       "       0, 1])"
      ]
     },
     "execution_count": 15,
     "metadata": {},
     "output_type": "execute_result"
    }
   ],
   "source": [
    "true_label[:200]"
   ]
  },
  {
   "cell_type": "code",
   "execution_count": 16,
   "metadata": {
    "id": "TwN5RrbbI2aJ"
   },
   "outputs": [],
   "source": [
    "standard_skala = StandardScaler()\n",
    "skala_fitur = standard_skala.fit_transform(features)"
   ]
  },
  {
   "cell_type": "code",
   "execution_count": 17,
   "metadata": {
    "colab": {
     "base_uri": "https://localhost:8080/"
    },
    "id": "yXpt4mI4Oyf8",
    "outputId": "024de845-a77b-4d8c-e277-0d28608dc474"
   },
   "outputs": [
    {
     "data": {
      "text/plain": [
       "array([[ 0.13282508,  0.79674195],\n",
       "       [-2.29836136,  0.33144566],\n",
       "       [ 0.10109107,  0.93752988],\n",
       "       [ 0.08673906,  1.56369933],\n",
       "       [-0.34461698,  1.24849708],\n",
       "       [-1.480231  ,  0.04801806],\n",
       "       [ 1.38884199,  0.06499368],\n",
       "       [-0.31477738,  1.09219839],\n",
       "       [-0.81489575, -0.06042325],\n",
       "       [-1.43038146,  0.71410012]])"
      ]
     },
     "execution_count": 17,
     "metadata": {},
     "output_type": "execute_result"
    }
   ],
   "source": [
    "skala_fitur[:10]"
   ]
  },
  {
   "cell_type": "code",
   "execution_count": 18,
   "metadata": {
    "id": "5lWkbEx6PDq_"
   },
   "outputs": [],
   "source": [
    "metode_kmeans = KMeans(\n",
    "    init=\"random\", \n",
    "    n_clusters=5, \n",
    "    n_init=10, \n",
    "    max_iter=100, \n",
    "    random_state=41\n",
    "    )"
   ]
  },
  {
   "cell_type": "code",
   "execution_count": 19,
   "metadata": {
    "colab": {
     "base_uri": "https://localhost:8080/",
     "height": 75
    },
    "id": "ZmyPuP06R2Gc",
    "outputId": "1a266c1b-c06d-4ebc-8e76-eb4cc61ef989"
   },
   "outputs": [
    {
     "name": "stderr",
     "output_type": "stream",
     "text": [
      "C:\\ProgramData\\anaconda3\\Lib\\site-packages\\sklearn\\cluster\\_kmeans.py:1382: UserWarning: KMeans is known to have a memory leak on Windows with MKL, when there are less chunks than available threads. You can avoid it by setting the environment variable OMP_NUM_THREADS=2.\n",
      "  warnings.warn(\n"
     ]
    },
    {
     "data": {
      "text/html": [
       "<style>#sk-container-id-1 {color: black;background-color: white;}#sk-container-id-1 pre{padding: 0;}#sk-container-id-1 div.sk-toggleable {background-color: white;}#sk-container-id-1 label.sk-toggleable__label {cursor: pointer;display: block;width: 100%;margin-bottom: 0;padding: 0.3em;box-sizing: border-box;text-align: center;}#sk-container-id-1 label.sk-toggleable__label-arrow:before {content: \"▸\";float: left;margin-right: 0.25em;color: #696969;}#sk-container-id-1 label.sk-toggleable__label-arrow:hover:before {color: black;}#sk-container-id-1 div.sk-estimator:hover label.sk-toggleable__label-arrow:before {color: black;}#sk-container-id-1 div.sk-toggleable__content {max-height: 0;max-width: 0;overflow: hidden;text-align: left;background-color: #f0f8ff;}#sk-container-id-1 div.sk-toggleable__content pre {margin: 0.2em;color: black;border-radius: 0.25em;background-color: #f0f8ff;}#sk-container-id-1 input.sk-toggleable__control:checked~div.sk-toggleable__content {max-height: 200px;max-width: 100%;overflow: auto;}#sk-container-id-1 input.sk-toggleable__control:checked~label.sk-toggleable__label-arrow:before {content: \"▾\";}#sk-container-id-1 div.sk-estimator input.sk-toggleable__control:checked~label.sk-toggleable__label {background-color: #d4ebff;}#sk-container-id-1 div.sk-label input.sk-toggleable__control:checked~label.sk-toggleable__label {background-color: #d4ebff;}#sk-container-id-1 input.sk-hidden--visually {border: 0;clip: rect(1px 1px 1px 1px);clip: rect(1px, 1px, 1px, 1px);height: 1px;margin: -1px;overflow: hidden;padding: 0;position: absolute;width: 1px;}#sk-container-id-1 div.sk-estimator {font-family: monospace;background-color: #f0f8ff;border: 1px dotted black;border-radius: 0.25em;box-sizing: border-box;margin-bottom: 0.5em;}#sk-container-id-1 div.sk-estimator:hover {background-color: #d4ebff;}#sk-container-id-1 div.sk-parallel-item::after {content: \"\";width: 100%;border-bottom: 1px solid gray;flex-grow: 1;}#sk-container-id-1 div.sk-label:hover label.sk-toggleable__label {background-color: #d4ebff;}#sk-container-id-1 div.sk-serial::before {content: \"\";position: absolute;border-left: 1px solid gray;box-sizing: border-box;top: 0;bottom: 0;left: 50%;z-index: 0;}#sk-container-id-1 div.sk-serial {display: flex;flex-direction: column;align-items: center;background-color: white;padding-right: 0.2em;padding-left: 0.2em;position: relative;}#sk-container-id-1 div.sk-item {position: relative;z-index: 1;}#sk-container-id-1 div.sk-parallel {display: flex;align-items: stretch;justify-content: center;background-color: white;position: relative;}#sk-container-id-1 div.sk-item::before, #sk-container-id-1 div.sk-parallel-item::before {content: \"\";position: absolute;border-left: 1px solid gray;box-sizing: border-box;top: 0;bottom: 0;left: 50%;z-index: -1;}#sk-container-id-1 div.sk-parallel-item {display: flex;flex-direction: column;z-index: 1;position: relative;background-color: white;}#sk-container-id-1 div.sk-parallel-item:first-child::after {align-self: flex-end;width: 50%;}#sk-container-id-1 div.sk-parallel-item:last-child::after {align-self: flex-start;width: 50%;}#sk-container-id-1 div.sk-parallel-item:only-child::after {width: 0;}#sk-container-id-1 div.sk-dashed-wrapped {border: 1px dashed gray;margin: 0 0.4em 0.5em 0.4em;box-sizing: border-box;padding-bottom: 0.4em;background-color: white;}#sk-container-id-1 div.sk-label label {font-family: monospace;font-weight: bold;display: inline-block;line-height: 1.2em;}#sk-container-id-1 div.sk-label-container {text-align: center;}#sk-container-id-1 div.sk-container {/* jupyter's `normalize.less` sets `[hidden] { display: none; }` but bootstrap.min.css set `[hidden] { display: none !important; }` so we also need the `!important` here to be able to override the default hidden behavior on the sphinx rendered scikit-learn.org. See: https://github.com/scikit-learn/scikit-learn/issues/21755 */display: inline-block !important;position: relative;}#sk-container-id-1 div.sk-text-repr-fallback {display: none;}</style><div id=\"sk-container-id-1\" class=\"sk-top-container\"><div class=\"sk-text-repr-fallback\"><pre>KMeans(init=&#x27;random&#x27;, max_iter=100, n_clusters=5, n_init=10, random_state=41)</pre><b>In a Jupyter environment, please rerun this cell to show the HTML representation or trust the notebook. <br />On GitHub, the HTML representation is unable to render, please try loading this page with nbviewer.org.</b></div><div class=\"sk-container\" hidden><div class=\"sk-item\"><div class=\"sk-estimator sk-toggleable\"><input class=\"sk-toggleable__control sk-hidden--visually\" id=\"sk-estimator-id-1\" type=\"checkbox\" checked><label for=\"sk-estimator-id-1\" class=\"sk-toggleable__label sk-toggleable__label-arrow\">KMeans</label><div class=\"sk-toggleable__content\"><pre>KMeans(init=&#x27;random&#x27;, max_iter=100, n_clusters=5, n_init=10, random_state=41)</pre></div></div></div></div></div>"
      ],
      "text/plain": [
       "KMeans(init='random', max_iter=100, n_clusters=5, n_init=10, random_state=41)"
      ]
     },
     "execution_count": 19,
     "metadata": {},
     "output_type": "execute_result"
    }
   ],
   "source": [
    "metode_kmeans.fit(skala_fitur)"
   ]
  },
  {
   "cell_type": "code",
   "execution_count": 20,
   "metadata": {
    "colab": {
     "base_uri": "https://localhost:8080/"
    },
    "id": "b3JVLMkcSNaE",
    "outputId": "11675bfc-ea47-45ae-960d-41cb07003605"
   },
   "outputs": [
    {
     "data": {
      "text/plain": [
       "105.38303038191631"
      ]
     },
     "execution_count": 20,
     "metadata": {},
     "output_type": "execute_result"
    }
   ],
   "source": [
    "metode_kmeans.inertia_"
   ]
  },
  {
   "cell_type": "code",
   "execution_count": 21,
   "metadata": {
    "colab": {
     "base_uri": "https://localhost:8080/"
    },
    "id": "3evacVnUUMR5",
    "outputId": "51dc6a0c-1bbc-4aac-a4ff-80ca79635a68"
   },
   "outputs": [
    {
     "data": {
      "text/plain": [
       "array([[-0.70704341, -1.62303944],\n",
       "       [-0.20151003,  1.03881702],\n",
       "       [ 1.49997719, -0.20184153],\n",
       "       [-1.28958821,  0.54347124],\n",
       "       [ 0.68968099,  0.17557137]])"
      ]
     },
     "execution_count": 21,
     "metadata": {},
     "output_type": "execute_result"
    }
   ],
   "source": [
    "metode_kmeans.cluster_centers_"
   ]
  },
  {
   "cell_type": "code",
   "execution_count": 22,
   "metadata": {
    "colab": {
     "base_uri": "https://localhost:8080/"
    },
    "id": "NoWHmBQaURp2",
    "outputId": "f0dd9b86-1c89-4955-c42e-b333569f72d6"
   },
   "outputs": [
    {
     "data": {
      "text/plain": [
       "7"
      ]
     },
     "execution_count": 22,
     "metadata": {},
     "output_type": "execute_result"
    }
   ],
   "source": [
    "metode_kmeans.n_iter_"
   ]
  },
  {
   "cell_type": "code",
   "execution_count": 23,
   "metadata": {
    "colab": {
     "base_uri": "https://localhost:8080/"
    },
    "id": "SJNbkGhEWQRQ",
    "outputId": "9b269dd2-92d6-443c-8e62-6cdfade29935"
   },
   "outputs": [
    {
     "data": {
      "text/plain": [
       "array([1, 3, 1, 1, 1, 3, 2, 1, 3, 3, 4, 4, 4, 0, 1, 1, 1, 4, 0, 0, 2, 4,\n",
       "       3, 4, 4, 0, 2, 3, 0, 1, 4, 3, 3, 0, 3, 4, 3, 1, 2, 0, 4, 2, 2, 1,\n",
       "       3, 4, 2, 0, 4, 2, 2, 3, 4, 0, 0, 4, 4, 1, 2, 1, 0, 0, 0, 4, 4, 0,\n",
       "       3, 4, 3, 0, 2, 4, 4, 1, 3, 4, 0, 0, 1, 4, 4, 4, 2, 1, 3, 2, 1, 4,\n",
       "       3, 3, 0, 3, 1, 3, 3, 4, 1, 3, 4, 3, 0, 0, 4, 4, 0, 2, 0, 1, 2, 1,\n",
       "       4, 0, 2, 0, 1, 2, 4, 2, 0, 4, 0, 2, 1, 1, 2, 0, 4, 1, 0, 2, 0, 3,\n",
       "       3, 1, 3, 2, 2, 1, 1, 2, 0, 2, 0, 0, 0, 2, 4, 4, 4, 3, 0, 1, 1, 4,\n",
       "       1, 3, 3, 3, 3, 2, 4, 4, 4, 0, 2, 1, 2, 2, 1, 2, 4, 2, 4, 3, 4, 0,\n",
       "       1, 1, 1, 4, 1, 3, 3, 4, 0, 0, 4, 4, 2, 4, 3, 4, 2, 2, 1, 3, 1, 3,\n",
       "       4, 2, 2, 0, 1, 3, 1, 4, 3, 1, 4, 2, 0, 0, 2, 4, 1, 3, 1, 4, 4, 0,\n",
       "       1, 3, 2, 4, 3, 1, 4, 0, 4, 2, 4, 4, 3, 4, 3, 3, 0, 4, 1, 1, 1, 0,\n",
       "       0, 4, 1, 1, 1, 1, 3, 1, 0, 2, 0, 4, 2, 2, 0, 4, 0, 0, 2, 1, 1, 4,\n",
       "       0, 0, 4, 1, 0, 3, 4, 1, 4, 2, 4, 0, 4, 1, 3, 1, 1, 2, 0, 2, 4, 2,\n",
       "       4, 1, 0, 3, 3, 2, 3, 0, 4, 3, 1, 1, 4, 4, 4, 1, 3, 0, 1, 1, 2, 0,\n",
       "       0, 2, 4, 1, 3, 3, 3, 4, 3, 1, 4, 0, 1, 1, 0, 4, 1, 4, 0, 4, 4, 4,\n",
       "       0, 4, 0, 0, 3, 4, 4, 4, 3, 0, 0])"
      ]
     },
     "execution_count": 23,
     "metadata": {},
     "output_type": "execute_result"
    }
   ],
   "source": [
    "metode_kmeans.labels_"
   ]
  },
  {
   "cell_type": "code",
   "execution_count": 24,
   "metadata": {
    "id": "zjyCAIU6Wxmt"
   },
   "outputs": [],
   "source": [
    "import numpy as np\n",
    "import matplotlib.pyplot as plt\n",
    "import pandas as pd\n",
    "\n"
   ]
  },
  {
   "cell_type": "code",
   "execution_count": null,
   "metadata": {
    "id": "DvBn2AwbZbSb"
   },
   "outputs": [],
   "source": []
  },
  {
   "cell_type": "code",
   "execution_count": 28,
   "metadata": {
    "colab": {
     "base_uri": "https://localhost:8080/",
     "height": 317
    },
    "id": "tJyWKlbxZmqa",
    "outputId": "08c99423-af87-431a-d49e-bfa19de89605"
   },
   "outputs": [
    {
     "name": "stderr",
     "output_type": "stream",
     "text": [
      "C:\\Users\\ainin\\AppData\\Local\\Temp\\ipykernel_19692\\2374923431.py:3: UserWarning: No data for colormapping provided via 'c'. Parameters 'cmap' will be ignored\n",
      "  plt.scatter(skala_fitur[:,0], skala_fitur[:,1], s=50, alpha=1, cmap='viridis', c=color[metode_kmeans.labels_])\n"
     ]
    },
    {
     "data": {
      "text/plain": [
       "<matplotlib.collections.PathCollection at 0x1c900099490>"
      ]
     },
     "execution_count": 28,
     "metadata": {},
     "output_type": "execute_result"
    },
    {
     "data": {
      "image/png": "[encoded data removed]",
      "text/plain": [
       "<Figure size 640x480 with 1 Axes>"
      ]
     },
     "metadata": {},
     "output_type": "display_data"
    }
   ],
   "source": [
    "\n",
    "color = np.array([\"Red\",\"Green\",\"Blue\",\"yellow\",\"brown\"])\n",
    "plt.subplot(3,4,1)\n",
    "plt.scatter(skala_fitur[:,0], skala_fitur[:,1], s=50, alpha=1, cmap='viridis', c=color[metode_kmeans.labels_])\n"
   ]
  },
  {
   "cell_type": "code",
   "execution_count": null,
   "metadata": {
    "id": "uoAIyQgVIubc"
   },
   "outputs": [],
   "source": []
  },
  {
   "cell_type": "code",
   "execution_count": null,
   "metadata": {},
   "outputs": [],
   "source": []
  }
 ],
 "metadata": {
  "colab": {
   "authorship_tag": "ABX9TyPIyW3djKuBJrbZviWCzAq9",
   "include_colab_link": true,
   "provenance": []
  },
  "kernelspec": {
   "display_name": "Python 3 (ipykernel)",
   "language": "python",
   "name": "python3"
  },
  "language_info": {
   "codemirror_mode": {
    "name": "ipython",
    "version": 3
   },
   "file_extension": ".py",
   "mimetype": "text/x-python",
   "name": "python",
   "nbconvert_exporter": "python",
   "pygments_lexer": "ipython3",
   "version": "3.11.3"
  }
 },
 "nbformat": 4,
 "nbformat_minor": 1
}
